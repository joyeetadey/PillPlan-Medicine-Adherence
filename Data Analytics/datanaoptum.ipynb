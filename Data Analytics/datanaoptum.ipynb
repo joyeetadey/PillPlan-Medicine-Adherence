{
 "cells": [
  {
   "cell_type": "code",
   "execution_count": 1,
   "id": "13f6c26c",
   "metadata": {
    "_cell_guid": "b1076dfc-b9ad-4769-8c92-a6c4dae69d19",
    "_uuid": "8f2839f25d086af736a60e9eeb907d3b93b6e0e5",
    "execution": {
     "iopub.execute_input": "2021-11-20T13:00:33.029235Z",
     "iopub.status.busy": "2021-11-20T13:00:33.027968Z",
     "iopub.status.idle": "2021-11-20T13:00:33.051750Z",
     "shell.execute_reply": "2021-11-20T13:00:33.052768Z",
     "shell.execute_reply.started": "2021-11-20T12:51:27.117613Z"
    },
    "papermill": {
     "duration": 0.050665,
     "end_time": "2021-11-20T13:00:33.053193",
     "exception": false,
     "start_time": "2021-11-20T13:00:33.002528",
     "status": "completed"
    },
    "tags": []
   },
   "outputs": [
    {
     "name": "stdout",
     "output_type": "stream",
     "text": [
      "/kaggle/input/patient/patients.csv\n",
      "/kaggle/input/datasetmy/Final_Merged.csv\n"
     ]
    }
   ],
   "source": [
    "# This Python 3 environment comes with many helpful analytics libraries installed\n",
    "# It is defined by the kaggle/python Docker image: https://github.com/kaggle/docker-python\n",
    "# For example, here's several helpful packages to load\n",
    "\n",
    "import numpy as np # linear algebra\n",
    "import pandas as pd # data processing, CSV file I/O (e.g. pd.read_csv)\n",
    "\n",
    "# Input data files are available in the read-only \"../input/\" directory\n",
    "# For example, running this (by clicking run or pressing Shift+Enter) will list all files under the input directory\n",
    "\n",
    "import os\n",
    "for dirname, _, filenames in os.walk('/kaggle/input'):\n",
    "    for filename in filenames:\n",
    "        print(os.path.join(dirname, filename))\n",
    "\n",
    "# You can write up to 20GB to the current directory (/kaggle/working/) that gets preserved as output when you create a version using \"Save & Run All\" \n",
    "# You can also write temporary files to /kaggle/temp/, but they won't be saved outside of the current session"
   ]
  },
  {
   "cell_type": "code",
   "execution_count": 2,
   "id": "4f12f8e4",
   "metadata": {
    "execution": {
     "iopub.execute_input": "2021-11-20T13:00:33.091475Z",
     "iopub.status.busy": "2021-11-20T13:00:33.090213Z",
     "iopub.status.idle": "2021-11-20T13:00:33.357731Z",
     "shell.execute_reply": "2021-11-20T13:00:33.358226Z",
     "shell.execute_reply.started": "2021-11-20T12:51:27.537041Z"
    },
    "papermill": {
     "duration": 0.288231,
     "end_time": "2021-11-20T13:00:33.358452",
     "exception": false,
     "start_time": "2021-11-20T13:00:33.070221",
     "status": "completed"
    },
    "tags": []
   },
   "outputs": [],
   "source": [
    "import folium\n",
    "import pandas as pd"
   ]
  },
  {
   "cell_type": "code",
   "execution_count": 3,
   "id": "626c4013",
   "metadata": {
    "execution": {
     "iopub.execute_input": "2021-11-20T13:00:33.402107Z",
     "iopub.status.busy": "2021-11-20T13:00:33.400951Z",
     "iopub.status.idle": "2021-11-20T13:00:33.414845Z",
     "shell.execute_reply": "2021-11-20T13:00:33.415396Z",
     "shell.execute_reply.started": "2021-11-20T12:51:27.912826Z"
    },
    "papermill": {
     "duration": 0.039125,
     "end_time": "2021-11-20T13:00:33.415605",
     "exception": false,
     "start_time": "2021-11-20T13:00:33.376480",
     "status": "completed"
    },
    "tags": []
   },
   "outputs": [],
   "source": [
    "map=folium.Map(location=[42.4072,-71.3824],tiles='Stamen Terrain',zoom_start=10)\n",
    "fg=folium.FeatureGroup(name=\"My Map\")"
   ]
  },
  {
   "cell_type": "code",
   "execution_count": 4,
   "id": "2344a629",
   "metadata": {
    "execution": {
     "iopub.execute_input": "2021-11-20T13:00:33.464060Z",
     "iopub.status.busy": "2021-11-20T13:00:33.462816Z",
     "iopub.status.idle": "2021-11-20T13:00:33.500752Z",
     "shell.execute_reply": "2021-11-20T13:00:33.501367Z",
     "shell.execute_reply.started": "2021-11-20T12:51:28.272462Z"
    },
    "papermill": {
     "duration": 0.065695,
     "end_time": "2021-11-20T13:00:33.501566",
     "exception": false,
     "start_time": "2021-11-20T13:00:33.435871",
     "status": "completed"
    },
    "tags": []
   },
   "outputs": [
    {
     "data": {
      "text/plain": [
       "Index(['Unnamed: 0', 'Id', 'BIRTHDATE', 'DEATHDATE', 'FIRST', 'LAST', 'RACE',\n",
       "       'ETHNICITY', 'GENDER', 'CITY', 'STATE', 'COUNTY', 'HEALTHCARE_EXPENSES',\n",
       "       'HEALTHCARE_COVERAGE', 'age', 'SCORE', 'COUNT', 'WEIGHT', 'ADH',\n",
       "       'Life Span'],\n",
       "      dtype='object')"
      ]
     },
     "execution_count": 4,
     "metadata": {},
     "output_type": "execute_result"
    }
   ],
   "source": [
    "df = pd.read_csv(\"../input/datasetmy/Final_Merged.csv\")\n",
    "df.columns"
   ]
  },
  {
   "cell_type": "code",
   "execution_count": 5,
   "id": "8d9283cd",
   "metadata": {
    "execution": {
     "iopub.execute_input": "2021-11-20T13:00:33.541605Z",
     "iopub.status.busy": "2021-11-20T13:00:33.540797Z",
     "iopub.status.idle": "2021-11-20T13:00:33.542627Z",
     "shell.execute_reply": "2021-11-20T13:00:33.543176Z",
     "shell.execute_reply.started": "2021-11-20T12:57:11.680335Z"
    },
    "papermill": {
     "duration": 0.02494,
     "end_time": "2021-11-20T13:00:33.543392",
     "exception": false,
     "start_time": "2021-11-20T13:00:33.518452",
     "status": "completed"
    },
    "tags": []
   },
   "outputs": [],
   "source": [
    "def colorchange(sex):\n",
    "    if sex==-1:\n",
    "        return 'red'\n",
    "    elif sex==-1:\n",
    "        return 'blue'"
   ]
  },
  {
   "cell_type": "code",
   "execution_count": 6,
   "id": "15a403cd",
   "metadata": {
    "execution": {
     "iopub.execute_input": "2021-11-20T13:00:33.583042Z",
     "iopub.status.busy": "2021-11-20T13:00:33.581567Z",
     "iopub.status.idle": "2021-11-20T13:00:33.610304Z",
     "shell.execute_reply": "2021-11-20T13:00:33.610965Z",
     "shell.execute_reply.started": "2021-11-20T12:51:29.426057Z"
    },
    "papermill": {
     "duration": 0.050208,
     "end_time": "2021-11-20T13:00:33.611146",
     "exception": false,
     "start_time": "2021-11-20T13:00:33.560938",
     "status": "completed"
    },
    "tags": []
   },
   "outputs": [
    {
     "data": {
      "text/plain": [
       "Index(['Id', 'BIRTHDATE', 'DEATHDATE', 'SSN', 'DRIVERS', 'PASSPORT', 'PREFIX',\n",
       "       'FIRST', 'LAST', 'SUFFIX', 'MAIDEN', 'MARITAL', 'RACE', 'ETHNICITY',\n",
       "       'GENDER', 'BIRTHPLACE', 'ADDRESS', 'CITY', 'STATE', 'COUNTY', 'ZIP',\n",
       "       'LAT', 'LON', 'HEALTHCARE_EXPENSES', 'HEALTHCARE_COVERAGE'],\n",
       "      dtype='object')"
      ]
     },
     "execution_count": 6,
     "metadata": {},
     "output_type": "execute_result"
    }
   ],
   "source": [
    "df_m = pd.read_csv(\"../input/patient/patients.csv\")\n",
    "df_m.columns"
   ]
  },
  {
   "cell_type": "code",
   "execution_count": 7,
   "id": "3f51f616",
   "metadata": {
    "execution": {
     "iopub.execute_input": "2021-11-20T13:00:33.646873Z",
     "iopub.status.busy": "2021-11-20T13:00:33.645863Z",
     "iopub.status.idle": "2021-11-20T13:00:33.660814Z",
     "shell.execute_reply": "2021-11-20T13:00:33.661537Z",
     "shell.execute_reply.started": "2021-11-20T12:51:29.892996Z"
    },
    "papermill": {
     "duration": 0.03477,
     "end_time": "2021-11-20T13:00:33.661723",
     "exception": false,
     "start_time": "2021-11-20T13:00:33.626953",
     "status": "completed"
    },
    "tags": []
   },
   "outputs": [],
   "source": [
    "df_m=df_m.drop(['BIRTHDATE', 'DEATHDATE','SSN','DRIVERS','PASSPORT','PREFIX','STATE','FIRST','LAST','SUFFIX','MAIDEN','RACE','ETHNICITY'], axis = 1)\n"
   ]
  },
  {
   "cell_type": "code",
   "execution_count": 8,
   "id": "97e46619",
   "metadata": {
    "execution": {
     "iopub.execute_input": "2021-11-20T13:00:33.697462Z",
     "iopub.status.busy": "2021-11-20T13:00:33.696723Z",
     "iopub.status.idle": "2021-11-20T13:00:33.704802Z",
     "shell.execute_reply": "2021-11-20T13:00:33.705428Z",
     "shell.execute_reply.started": "2021-11-20T12:51:31.955551Z"
    },
    "papermill": {
     "duration": 0.028084,
     "end_time": "2021-11-20T13:00:33.705642",
     "exception": false,
     "start_time": "2021-11-20T13:00:33.677558",
     "status": "completed"
    },
    "tags": []
   },
   "outputs": [],
   "source": [
    "df_m=df_m.drop(['MARITAL', 'GENDER','BIRTHPLACE','ADDRESS','CITY','COUNTY'], axis = 1)\n"
   ]
  },
  {
   "cell_type": "code",
   "execution_count": 9,
   "id": "95bd937a",
   "metadata": {
    "execution": {
     "iopub.execute_input": "2021-11-20T13:00:33.743687Z",
     "iopub.status.busy": "2021-11-20T13:00:33.742866Z",
     "iopub.status.idle": "2021-11-20T13:00:33.762825Z",
     "shell.execute_reply": "2021-11-20T13:00:33.763401Z",
     "shell.execute_reply.started": "2021-11-20T12:52:02.913710Z"
    },
    "papermill": {
     "duration": 0.040918,
     "end_time": "2021-11-20T13:00:33.763579",
     "exception": false,
     "start_time": "2021-11-20T13:00:33.722661",
     "status": "completed"
    },
    "tags": []
   },
   "outputs": [
    {
     "data": {
      "text/html": [
       "<div>\n",
       "<style scoped>\n",
       "    .dataframe tbody tr th:only-of-type {\n",
       "        vertical-align: middle;\n",
       "    }\n",
       "\n",
       "    .dataframe tbody tr th {\n",
       "        vertical-align: top;\n",
       "    }\n",
       "\n",
       "    .dataframe thead th {\n",
       "        text-align: right;\n",
       "    }\n",
       "</style>\n",
       "<table border=\"1\" class=\"dataframe\">\n",
       "  <thead>\n",
       "    <tr style=\"text-align: right;\">\n",
       "      <th></th>\n",
       "      <th>Id</th>\n",
       "      <th>ZIP</th>\n",
       "      <th>LAT</th>\n",
       "      <th>LON</th>\n",
       "      <th>HEALTHCARE_EXPENSES</th>\n",
       "      <th>HEALTHCARE_COVERAGE</th>\n",
       "    </tr>\n",
       "  </thead>\n",
       "  <tbody>\n",
       "    <tr>\n",
       "      <th>0</th>\n",
       "      <td>1d604da9-9a81-4ba9-80c2-de3375d59b40</td>\n",
       "      <td>1013.0</td>\n",
       "      <td>42.228354</td>\n",
       "      <td>-72.562951</td>\n",
       "      <td>271227.08</td>\n",
       "      <td>1334.88</td>\n",
       "    </tr>\n",
       "    <tr>\n",
       "      <th>1</th>\n",
       "      <td>034e9e3b-2def-4559-bb2a-7850888ae060</td>\n",
       "      <td>2143.0</td>\n",
       "      <td>42.360697</td>\n",
       "      <td>-71.126531</td>\n",
       "      <td>793946.01</td>\n",
       "      <td>3204.49</td>\n",
       "    </tr>\n",
       "    <tr>\n",
       "      <th>2</th>\n",
       "      <td>10339b10-3cd1-4ac3-ac13-ec26728cb592</td>\n",
       "      <td>1020.0</td>\n",
       "      <td>42.181642</td>\n",
       "      <td>-72.608842</td>\n",
       "      <td>574111.90</td>\n",
       "      <td>2606.40</td>\n",
       "    </tr>\n",
       "    <tr>\n",
       "      <th>3</th>\n",
       "      <td>8d4c4326-e9de-4f45-9a4c-f8c36bff89ae</td>\n",
       "      <td>1851.0</td>\n",
       "      <td>42.636143</td>\n",
       "      <td>-71.343255</td>\n",
       "      <td>935630.30</td>\n",
       "      <td>8756.19</td>\n",
       "    </tr>\n",
       "    <tr>\n",
       "      <th>4</th>\n",
       "      <td>f5dcd418-09fe-4a2f-baa0-3da800bd8c3a</td>\n",
       "      <td>2135.0</td>\n",
       "      <td>42.352434</td>\n",
       "      <td>-71.028610</td>\n",
       "      <td>598763.07</td>\n",
       "      <td>3772.20</td>\n",
       "    </tr>\n",
       "  </tbody>\n",
       "</table>\n",
       "</div>"
      ],
      "text/plain": [
       "                                     Id     ZIP        LAT        LON  \\\n",
       "0  1d604da9-9a81-4ba9-80c2-de3375d59b40  1013.0  42.228354 -72.562951   \n",
       "1  034e9e3b-2def-4559-bb2a-7850888ae060  2143.0  42.360697 -71.126531   \n",
       "2  10339b10-3cd1-4ac3-ac13-ec26728cb592  1020.0  42.181642 -72.608842   \n",
       "3  8d4c4326-e9de-4f45-9a4c-f8c36bff89ae  1851.0  42.636143 -71.343255   \n",
       "4  f5dcd418-09fe-4a2f-baa0-3da800bd8c3a  2135.0  42.352434 -71.028610   \n",
       "\n",
       "   HEALTHCARE_EXPENSES  HEALTHCARE_COVERAGE  \n",
       "0            271227.08              1334.88  \n",
       "1            793946.01              3204.49  \n",
       "2            574111.90              2606.40  \n",
       "3            935630.30              8756.19  \n",
       "4            598763.07              3772.20  "
      ]
     },
     "execution_count": 9,
     "metadata": {},
     "output_type": "execute_result"
    }
   ],
   "source": [
    "df_m.head()"
   ]
  },
  {
   "cell_type": "code",
   "execution_count": 10,
   "id": "42df8459",
   "metadata": {
    "execution": {
     "iopub.execute_input": "2021-11-20T13:00:33.800203Z",
     "iopub.status.busy": "2021-11-20T13:00:33.799499Z",
     "iopub.status.idle": "2021-11-20T13:00:33.804875Z",
     "shell.execute_reply": "2021-11-20T13:00:33.805502Z",
     "shell.execute_reply.started": "2021-11-20T12:52:42.393483Z"
    },
    "papermill": {
     "duration": 0.025618,
     "end_time": "2021-11-20T13:00:33.805697",
     "exception": false,
     "start_time": "2021-11-20T13:00:33.780079",
     "status": "completed"
    },
    "tags": []
   },
   "outputs": [],
   "source": [
    "df_m=df_m.drop(['HEALTHCARE_EXPENSES', 'HEALTHCARE_COVERAGE'], axis = 1)"
   ]
  },
  {
   "cell_type": "code",
   "execution_count": 11,
   "id": "a0b36346",
   "metadata": {
    "execution": {
     "iopub.execute_input": "2021-11-20T13:00:33.843614Z",
     "iopub.status.busy": "2021-11-20T13:00:33.842882Z",
     "iopub.status.idle": "2021-11-20T13:00:33.855168Z",
     "shell.execute_reply": "2021-11-20T13:00:33.855841Z",
     "shell.execute_reply.started": "2021-11-20T12:52:49.485314Z"
    },
    "papermill": {
     "duration": 0.032965,
     "end_time": "2021-11-20T13:00:33.856029",
     "exception": false,
     "start_time": "2021-11-20T13:00:33.823064",
     "status": "completed"
    },
    "tags": []
   },
   "outputs": [
    {
     "data": {
      "text/html": [
       "<div>\n",
       "<style scoped>\n",
       "    .dataframe tbody tr th:only-of-type {\n",
       "        vertical-align: middle;\n",
       "    }\n",
       "\n",
       "    .dataframe tbody tr th {\n",
       "        vertical-align: top;\n",
       "    }\n",
       "\n",
       "    .dataframe thead th {\n",
       "        text-align: right;\n",
       "    }\n",
       "</style>\n",
       "<table border=\"1\" class=\"dataframe\">\n",
       "  <thead>\n",
       "    <tr style=\"text-align: right;\">\n",
       "      <th></th>\n",
       "      <th>Id</th>\n",
       "      <th>ZIP</th>\n",
       "      <th>LAT</th>\n",
       "      <th>LON</th>\n",
       "    </tr>\n",
       "  </thead>\n",
       "  <tbody>\n",
       "    <tr>\n",
       "      <th>0</th>\n",
       "      <td>1d604da9-9a81-4ba9-80c2-de3375d59b40</td>\n",
       "      <td>1013.0</td>\n",
       "      <td>42.228354</td>\n",
       "      <td>-72.562951</td>\n",
       "    </tr>\n",
       "    <tr>\n",
       "      <th>1</th>\n",
       "      <td>034e9e3b-2def-4559-bb2a-7850888ae060</td>\n",
       "      <td>2143.0</td>\n",
       "      <td>42.360697</td>\n",
       "      <td>-71.126531</td>\n",
       "    </tr>\n",
       "    <tr>\n",
       "      <th>2</th>\n",
       "      <td>10339b10-3cd1-4ac3-ac13-ec26728cb592</td>\n",
       "      <td>1020.0</td>\n",
       "      <td>42.181642</td>\n",
       "      <td>-72.608842</td>\n",
       "    </tr>\n",
       "    <tr>\n",
       "      <th>3</th>\n",
       "      <td>8d4c4326-e9de-4f45-9a4c-f8c36bff89ae</td>\n",
       "      <td>1851.0</td>\n",
       "      <td>42.636143</td>\n",
       "      <td>-71.343255</td>\n",
       "    </tr>\n",
       "    <tr>\n",
       "      <th>4</th>\n",
       "      <td>f5dcd418-09fe-4a2f-baa0-3da800bd8c3a</td>\n",
       "      <td>2135.0</td>\n",
       "      <td>42.352434</td>\n",
       "      <td>-71.028610</td>\n",
       "    </tr>\n",
       "  </tbody>\n",
       "</table>\n",
       "</div>"
      ],
      "text/plain": [
       "                                     Id     ZIP        LAT        LON\n",
       "0  1d604da9-9a81-4ba9-80c2-de3375d59b40  1013.0  42.228354 -72.562951\n",
       "1  034e9e3b-2def-4559-bb2a-7850888ae060  2143.0  42.360697 -71.126531\n",
       "2  10339b10-3cd1-4ac3-ac13-ec26728cb592  1020.0  42.181642 -72.608842\n",
       "3  8d4c4326-e9de-4f45-9a4c-f8c36bff89ae  1851.0  42.636143 -71.343255\n",
       "4  f5dcd418-09fe-4a2f-baa0-3da800bd8c3a  2135.0  42.352434 -71.028610"
      ]
     },
     "execution_count": 11,
     "metadata": {},
     "output_type": "execute_result"
    }
   ],
   "source": [
    "df_m.head()"
   ]
  },
  {
   "cell_type": "code",
   "execution_count": 12,
   "id": "2107d863",
   "metadata": {
    "execution": {
     "iopub.execute_input": "2021-11-20T13:00:33.895033Z",
     "iopub.status.busy": "2021-11-20T13:00:33.894002Z",
     "iopub.status.idle": "2021-11-20T13:00:33.923914Z",
     "shell.execute_reply": "2021-11-20T13:00:33.923278Z",
     "shell.execute_reply.started": "2021-11-20T12:54:49.594101Z"
    },
    "papermill": {
     "duration": 0.051474,
     "end_time": "2021-11-20T13:00:33.924084",
     "exception": false,
     "start_time": "2021-11-20T13:00:33.872610",
     "status": "completed"
    },
    "tags": []
   },
   "outputs": [
    {
     "name": "stdout",
     "output_type": "stream",
     "text": [
      "      Unnamed: 0                                    Id   BIRTHDATE  \\\n",
      "0              0  00185faa-2760-4218-9bf5-db301acf8274  2003-11-18   \n",
      "1              1  0042862c-9889-4a2e-b782-fac1e540ecb4  2009-11-26   \n",
      "2              2  0047123f-12e7-486c-82df-53b3a450e365  1960-01-20   \n",
      "3              3  010d4a3a-2316-45ed-ae15-16f01c611674  1998-05-31   \n",
      "4              4  0149d553-f571-4e99-867e-fcb9625d07c2  1979-06-21   \n",
      "...          ...                                   ...         ...   \n",
      "1147        1147  ff02f237-fedb-453b-85b1-ebfc2609c312  1999-01-09   \n",
      "1148        1148  ff3714ac-c7e3-4910-905e-2a321eb28144  1997-05-20   \n",
      "1149        1149  ff6948b7-3d62-4bfc-bc7d-dbb6748ed0be  1977-06-27   \n",
      "1150        1150  ffa37e71-fa14-4e84-ba9d-aece8d1d99f9  1966-02-11   \n",
      "1151        1151  ffcfa457-00c2-4405-9837-ac2781549c7e  2016-06-13   \n",
      "\n",
      "                DEATHDATE         FIRST          LAST   RACE    ETHNICITY  \\\n",
      "0                       0    Eusebio566      Wyman904  white  nonhispanic   \n",
      "1                       0     Dewitt635      Feest103  white  nonhispanic   \n",
      "2                       0     Jordon466     Harber290  black  nonhispanic   \n",
      "3                       0    Patrick786  Hettinger594  white  nonhispanic   \n",
      "4                       0      Sophie40    Kessler503  white     hispanic   \n",
      "...                   ...           ...           ...    ...          ...   \n",
      "1147                    0      Riley817   Donnelly343  white  nonhispanic   \n",
      "1148                    0  Salvatore257    Roberts511  white  nonhispanic   \n",
      "1149                    0       Kris249   Champlin946  white  nonhispanic   \n",
      "1150  2003-06-01 00:00:00    Shirley182     Douglas31  black  nonhispanic   \n",
      "1151                    0        Sid118        Von197  white  nonhispanic   \n",
      "\n",
      "     GENDER          CITY  ... HEALTHCARE_COVERAGE age  SCORE  COUNT  \\\n",
      "0         M          Lynn  ...             9863.36  18      2      5   \n",
      "1         M        Boston  ...             1240.76  12      4      4   \n",
      "2         M     Middleton  ...             7108.77  61      4      6   \n",
      "3         M    Pittsfield  ...             3346.40  23      2      3   \n",
      "4         F  Northborough  ...             6713.48  42      5      9   \n",
      "...     ...           ...  ...                 ...  ..    ...    ...   \n",
      "1147      M         Dover  ...             2920.64  22      3      4   \n",
      "1148      M   Belchertown  ...             3405.56  24      3      6   \n",
      "1149      F    Fall River  ...            16754.77  44      8     15   \n",
      "1150      F          Lynn  ...             7002.65  55      4      8   \n",
      "1151      M      Chicopee  ...             1786.56   5      5      5   \n",
      "\n",
      "        WEIGHT  ADH  Life Span     ZIP        LAT        LON  \n",
      "0     0.400000   -1          1  1907.0  42.486646 -70.935805  \n",
      "1     1.000000    1          1  2109.0  42.341120 -71.167926  \n",
      "2     0.666667    1          1     NaN  42.649161 -70.967391  \n",
      "3     0.666667    1          1  1201.0  42.479132 -73.233565  \n",
      "4     0.555556   -1          1  1532.0  42.297481 -71.625323  \n",
      "...        ...  ...        ...     ...        ...        ...  \n",
      "1147  0.750000    1          1     NaN  42.236541 -71.277803  \n",
      "1148  0.500000   -1          1     NaN  42.274813 -72.378483  \n",
      "1149  0.533333   -1          1  2720.0  41.702741 -71.160285  \n",
      "1150  0.500000   -1         -1  1940.0  42.521593 -70.896867  \n",
      "1151  1.000000    1          1  1022.0  42.177127 -72.647205  \n",
      "\n",
      "[1152 rows x 23 columns]\n"
     ]
    }
   ],
   "source": [
    "df_f = pd.merge(df, df_m, on=\"Id\")\n",
    "print(df_f)"
   ]
  },
  {
   "cell_type": "code",
   "execution_count": 13,
   "id": "dc91d981",
   "metadata": {
    "execution": {
     "iopub.execute_input": "2021-11-20T13:00:33.963494Z",
     "iopub.status.busy": "2021-11-20T13:00:33.962565Z",
     "iopub.status.idle": "2021-11-20T13:00:33.985847Z",
     "shell.execute_reply": "2021-11-20T13:00:33.986481Z",
     "shell.execute_reply.started": "2021-11-20T12:54:59.791278Z"
    },
    "papermill": {
     "duration": 0.045039,
     "end_time": "2021-11-20T13:00:33.986675",
     "exception": false,
     "start_time": "2021-11-20T13:00:33.941636",
     "status": "completed"
    },
    "tags": []
   },
   "outputs": [
    {
     "data": {
      "text/html": [
       "<div>\n",
       "<style scoped>\n",
       "    .dataframe tbody tr th:only-of-type {\n",
       "        vertical-align: middle;\n",
       "    }\n",
       "\n",
       "    .dataframe tbody tr th {\n",
       "        vertical-align: top;\n",
       "    }\n",
       "\n",
       "    .dataframe thead th {\n",
       "        text-align: right;\n",
       "    }\n",
       "</style>\n",
       "<table border=\"1\" class=\"dataframe\">\n",
       "  <thead>\n",
       "    <tr style=\"text-align: right;\">\n",
       "      <th></th>\n",
       "      <th>Unnamed: 0</th>\n",
       "      <th>Id</th>\n",
       "      <th>BIRTHDATE</th>\n",
       "      <th>DEATHDATE</th>\n",
       "      <th>FIRST</th>\n",
       "      <th>LAST</th>\n",
       "      <th>RACE</th>\n",
       "      <th>ETHNICITY</th>\n",
       "      <th>GENDER</th>\n",
       "      <th>CITY</th>\n",
       "      <th>...</th>\n",
       "      <th>HEALTHCARE_COVERAGE</th>\n",
       "      <th>age</th>\n",
       "      <th>SCORE</th>\n",
       "      <th>COUNT</th>\n",
       "      <th>WEIGHT</th>\n",
       "      <th>ADH</th>\n",
       "      <th>Life Span</th>\n",
       "      <th>ZIP</th>\n",
       "      <th>LAT</th>\n",
       "      <th>LON</th>\n",
       "    </tr>\n",
       "  </thead>\n",
       "  <tbody>\n",
       "    <tr>\n",
       "      <th>0</th>\n",
       "      <td>0</td>\n",
       "      <td>00185faa-2760-4218-9bf5-db301acf8274</td>\n",
       "      <td>2003-11-18</td>\n",
       "      <td>0</td>\n",
       "      <td>Eusebio566</td>\n",
       "      <td>Wyman904</td>\n",
       "      <td>white</td>\n",
       "      <td>nonhispanic</td>\n",
       "      <td>M</td>\n",
       "      <td>Lynn</td>\n",
       "      <td>...</td>\n",
       "      <td>9863.36</td>\n",
       "      <td>18</td>\n",
       "      <td>2</td>\n",
       "      <td>5</td>\n",
       "      <td>0.400000</td>\n",
       "      <td>-1</td>\n",
       "      <td>1</td>\n",
       "      <td>1907.0</td>\n",
       "      <td>42.486646</td>\n",
       "      <td>-70.935805</td>\n",
       "    </tr>\n",
       "    <tr>\n",
       "      <th>1</th>\n",
       "      <td>1</td>\n",
       "      <td>0042862c-9889-4a2e-b782-fac1e540ecb4</td>\n",
       "      <td>2009-11-26</td>\n",
       "      <td>0</td>\n",
       "      <td>Dewitt635</td>\n",
       "      <td>Feest103</td>\n",
       "      <td>white</td>\n",
       "      <td>nonhispanic</td>\n",
       "      <td>M</td>\n",
       "      <td>Boston</td>\n",
       "      <td>...</td>\n",
       "      <td>1240.76</td>\n",
       "      <td>12</td>\n",
       "      <td>4</td>\n",
       "      <td>4</td>\n",
       "      <td>1.000000</td>\n",
       "      <td>1</td>\n",
       "      <td>1</td>\n",
       "      <td>2109.0</td>\n",
       "      <td>42.341120</td>\n",
       "      <td>-71.167926</td>\n",
       "    </tr>\n",
       "    <tr>\n",
       "      <th>2</th>\n",
       "      <td>2</td>\n",
       "      <td>0047123f-12e7-486c-82df-53b3a450e365</td>\n",
       "      <td>1960-01-20</td>\n",
       "      <td>0</td>\n",
       "      <td>Jordon466</td>\n",
       "      <td>Harber290</td>\n",
       "      <td>black</td>\n",
       "      <td>nonhispanic</td>\n",
       "      <td>M</td>\n",
       "      <td>Middleton</td>\n",
       "      <td>...</td>\n",
       "      <td>7108.77</td>\n",
       "      <td>61</td>\n",
       "      <td>4</td>\n",
       "      <td>6</td>\n",
       "      <td>0.666667</td>\n",
       "      <td>1</td>\n",
       "      <td>1</td>\n",
       "      <td>NaN</td>\n",
       "      <td>42.649161</td>\n",
       "      <td>-70.967391</td>\n",
       "    </tr>\n",
       "    <tr>\n",
       "      <th>3</th>\n",
       "      <td>3</td>\n",
       "      <td>010d4a3a-2316-45ed-ae15-16f01c611674</td>\n",
       "      <td>1998-05-31</td>\n",
       "      <td>0</td>\n",
       "      <td>Patrick786</td>\n",
       "      <td>Hettinger594</td>\n",
       "      <td>white</td>\n",
       "      <td>nonhispanic</td>\n",
       "      <td>M</td>\n",
       "      <td>Pittsfield</td>\n",
       "      <td>...</td>\n",
       "      <td>3346.40</td>\n",
       "      <td>23</td>\n",
       "      <td>2</td>\n",
       "      <td>3</td>\n",
       "      <td>0.666667</td>\n",
       "      <td>1</td>\n",
       "      <td>1</td>\n",
       "      <td>1201.0</td>\n",
       "      <td>42.479132</td>\n",
       "      <td>-73.233565</td>\n",
       "    </tr>\n",
       "    <tr>\n",
       "      <th>4</th>\n",
       "      <td>4</td>\n",
       "      <td>0149d553-f571-4e99-867e-fcb9625d07c2</td>\n",
       "      <td>1979-06-21</td>\n",
       "      <td>0</td>\n",
       "      <td>Sophie40</td>\n",
       "      <td>Kessler503</td>\n",
       "      <td>white</td>\n",
       "      <td>hispanic</td>\n",
       "      <td>F</td>\n",
       "      <td>Northborough</td>\n",
       "      <td>...</td>\n",
       "      <td>6713.48</td>\n",
       "      <td>42</td>\n",
       "      <td>5</td>\n",
       "      <td>9</td>\n",
       "      <td>0.555556</td>\n",
       "      <td>-1</td>\n",
       "      <td>1</td>\n",
       "      <td>1532.0</td>\n",
       "      <td>42.297481</td>\n",
       "      <td>-71.625323</td>\n",
       "    </tr>\n",
       "  </tbody>\n",
       "</table>\n",
       "<p>5 rows × 23 columns</p>\n",
       "</div>"
      ],
      "text/plain": [
       "   Unnamed: 0                                    Id   BIRTHDATE DEATHDATE  \\\n",
       "0           0  00185faa-2760-4218-9bf5-db301acf8274  2003-11-18         0   \n",
       "1           1  0042862c-9889-4a2e-b782-fac1e540ecb4  2009-11-26         0   \n",
       "2           2  0047123f-12e7-486c-82df-53b3a450e365  1960-01-20         0   \n",
       "3           3  010d4a3a-2316-45ed-ae15-16f01c611674  1998-05-31         0   \n",
       "4           4  0149d553-f571-4e99-867e-fcb9625d07c2  1979-06-21         0   \n",
       "\n",
       "        FIRST          LAST   RACE    ETHNICITY GENDER          CITY  ...  \\\n",
       "0  Eusebio566      Wyman904  white  nonhispanic      M          Lynn  ...   \n",
       "1   Dewitt635      Feest103  white  nonhispanic      M        Boston  ...   \n",
       "2   Jordon466     Harber290  black  nonhispanic      M     Middleton  ...   \n",
       "3  Patrick786  Hettinger594  white  nonhispanic      M    Pittsfield  ...   \n",
       "4    Sophie40    Kessler503  white     hispanic      F  Northborough  ...   \n",
       "\n",
       "  HEALTHCARE_COVERAGE age  SCORE  COUNT    WEIGHT  ADH  Life Span     ZIP  \\\n",
       "0             9863.36  18      2      5  0.400000   -1          1  1907.0   \n",
       "1             1240.76  12      4      4  1.000000    1          1  2109.0   \n",
       "2             7108.77  61      4      6  0.666667    1          1     NaN   \n",
       "3             3346.40  23      2      3  0.666667    1          1  1201.0   \n",
       "4             6713.48  42      5      9  0.555556   -1          1  1532.0   \n",
       "\n",
       "         LAT        LON  \n",
       "0  42.486646 -70.935805  \n",
       "1  42.341120 -71.167926  \n",
       "2  42.649161 -70.967391  \n",
       "3  42.479132 -73.233565  \n",
       "4  42.297481 -71.625323  \n",
       "\n",
       "[5 rows x 23 columns]"
      ]
     },
     "execution_count": 13,
     "metadata": {},
     "output_type": "execute_result"
    }
   ],
   "source": [
    "df_f.head()"
   ]
  },
  {
   "cell_type": "code",
   "execution_count": 14,
   "id": "0fc4d64e",
   "metadata": {
    "execution": {
     "iopub.execute_input": "2021-11-20T13:00:34.029470Z",
     "iopub.status.busy": "2021-11-20T13:00:34.028709Z",
     "iopub.status.idle": "2021-11-20T13:00:34.035212Z",
     "shell.execute_reply": "2021-11-20T13:00:34.034413Z",
     "shell.execute_reply.started": "2021-11-20T12:56:06.371377Z"
    },
    "papermill": {
     "duration": 0.029095,
     "end_time": "2021-11-20T13:00:34.035398",
     "exception": false,
     "start_time": "2021-11-20T13:00:34.006303",
     "status": "completed"
    },
    "tags": []
   },
   "outputs": [],
   "source": [
    "lat=df_f['LAT']\n",
    "lon=df_f['LON']\n",
    "gen=df_f['ADH']\n",
    "eth=df_f['ETHNICITY']\n",
    "cou=df_f['COUNTY']"
   ]
  },
  {
   "cell_type": "code",
   "execution_count": 15,
   "id": "6187db56",
   "metadata": {
    "execution": {
     "iopub.execute_input": "2021-11-20T13:00:34.088066Z",
     "iopub.status.busy": "2021-11-20T13:00:34.087162Z",
     "iopub.status.idle": "2021-11-20T13:00:34.389375Z",
     "shell.execute_reply": "2021-11-20T13:00:34.388563Z",
     "shell.execute_reply.started": "2021-11-20T12:57:48.594331Z"
    },
    "papermill": {
     "duration": 0.329399,
     "end_time": "2021-11-20T13:00:34.389610",
     "exception": false,
     "start_time": "2021-11-20T13:00:34.060211",
     "status": "completed"
    },
    "tags": []
   },
   "outputs": [
    {
     "name": "stderr",
     "output_type": "stream",
     "text": [
      "/opt/conda/lib/python3.7/site-packages/ipykernel_launcher.py:2: UserWarning: color argument of Icon should be one of: {'green', 'darkred', 'lightblue', 'darkpurple', 'red', 'lightred', 'blue', 'purple', 'white', 'gray', 'beige', 'pink', 'orange', 'lightgray', 'black', 'darkgreen', 'cadetblue', 'darkblue', 'lightgreen'}.\n",
      "  \n"
     ]
    }
   ],
   "source": [
    "for lt,ln,sex,e,c in zip(lat,lon,gen,eth,cou):\n",
    "    fg.add_child(folium.Marker(location=[lt,ln],popup=e,tooltip=c,icon=folium.Icon(color=colorchange(sex)),draggable=False))"
   ]
  },
  {
   "cell_type": "code",
   "execution_count": 16,
   "id": "ed5c0e80",
   "metadata": {
    "execution": {
     "iopub.execute_input": "2021-11-20T13:00:34.630755Z",
     "iopub.status.busy": "2021-11-20T13:00:34.432408Z",
     "iopub.status.idle": "2021-11-20T13:00:37.767446Z",
     "shell.execute_reply": "2021-11-20T13:00:37.766666Z",
     "shell.execute_reply.started": "2021-11-20T12:58:44.453643Z"
    },
    "papermill": {
     "duration": 3.35987,
     "end_time": "2021-11-20T13:00:37.767607",
     "exception": false,
     "start_time": "2021-11-20T13:00:34.407737",
     "status": "completed"
    },
    "tags": []
   },
   "outputs": [],
   "source": [
    "map.add_child(fg)\n",
    "map.save(\"MapPatients.html\")"
   ]
  },
  {
   "cell_type": "code",
   "execution_count": null,
   "id": "54dbdcf1",
   "metadata": {
    "papermill": {
     "duration": 0.017774,
     "end_time": "2021-11-20T13:00:37.803802",
     "exception": false,
     "start_time": "2021-11-20T13:00:37.786028",
     "status": "completed"
    },
    "tags": []
   },
   "outputs": [],
   "source": []
  }
 ],
 "metadata": {
  "kernelspec": {
   "display_name": "Python 3",
   "language": "python",
   "name": "python3"
  },
  "language_info": {
   "codemirror_mode": {
    "name": "ipython",
    "version": 3
   },
   "file_extension": ".py",
   "mimetype": "text/x-python",
   "name": "python",
   "nbconvert_exporter": "python",
   "pygments_lexer": "ipython3",
   "version": "3.7.10"
  },
  "papermill": {
   "default_parameters": {},
   "duration": 15.835287,
   "end_time": "2021-11-20T13:00:38.533871",
   "environment_variables": {},
   "exception": null,
   "input_path": "__notebook__.ipynb",
   "output_path": "__notebook__.ipynb",
   "parameters": {},
   "start_time": "2021-11-20T13:00:22.698584",
   "version": "2.3.3"
  }
 },
 "nbformat": 4,
 "nbformat_minor": 5
}
